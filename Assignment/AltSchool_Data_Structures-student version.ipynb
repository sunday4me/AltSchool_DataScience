{
 "cells": [
  {
   "cell_type": "markdown",
   "id": "bdc39fb2",
   "metadata": {
    "id": "bdc39fb2"
   },
   "source": [
    "### Learning Objectives\n",
    "\n",
    "By the end of this class, you should be able to:\n",
    "\n",
    "1. Understand common Python data structures.\n",
    "2. Apply CRUD operations to data structures.\n",
    "3. Recognize use cases for data structures in data science."
   ]
  },
  {
   "cell_type": "markdown",
   "id": "d23f580c",
   "metadata": {
    "id": "d23f580c"
   },
   "source": [
    "CRUD\n",
    "\n",
    "Create\n",
    "Read\n",
    "Update\n",
    "Delete"
   ]
  },
  {
   "cell_type": "markdown",
   "id": "b4037726",
   "metadata": {
    "id": "b4037726"
   },
   "source": [
    "## 1. Lists <a id=\"lists\"></a>"
   ]
  },
  {
   "cell_type": "markdown",
   "id": "abb31eb5",
   "metadata": {
    "id": "abb31eb5"
   },
   "source": [
    "In Python, lists are versatile and commonly used to store collections of items. You can create lists using square brackets `[]`. you can also use the list function: list()\n",
    "\n",
    "lists are mutable, ordered, typically homogenous."
   ]
  },
  {
   "cell_type": "markdown",
   "id": "7a1b3ec6",
   "metadata": {
    "id": "7a1b3ec6"
   },
   "source": [
    "### Creating a Python List <a id=\"lists-create\"></a>"
   ]
  },
  {
   "cell_type": "code",
   "execution_count": 10,
   "id": "ff4d7271",
   "metadata": {
    "id": "ff4d7271"
   },
   "outputs": [],
   "source": [
    "# creating a list using square brackets\n",
    "shopping_list = ['Groceries', 'Cocacola', 'Milo', 'Bama', 'Floating Berries']"
   ]
  },
  {
   "cell_type": "code",
   "execution_count": 11,
   "id": "eaa11cea",
   "metadata": {
    "id": "eaa11cea",
    "outputId": "b183ac13-9f4a-48d4-f920-9ff5f1ef004e"
   },
   "outputs": [
    {
     "data": {
      "text/plain": [
       "['Groceries', 'Cocacola', 'Milo', 'Bama', 'Floating Berries']"
      ]
     },
     "execution_count": 11,
     "metadata": {},
     "output_type": "execute_result"
    }
   ],
   "source": [
    "shopping_list"
   ]
  },
  {
   "cell_type": "code",
   "execution_count": 12,
   "id": "3d7aa758",
   "metadata": {
    "id": "3d7aa758"
   },
   "outputs": [],
   "source": [
    "# create a list using the list function\n",
    "shopping_list2 = list(('Perfume', 'Soap', 'Tissue paper', 'Body cream'))"
   ]
  },
  {
   "cell_type": "code",
   "execution_count": 13,
   "id": "a1ffbf00",
   "metadata": {
    "id": "a1ffbf00",
    "outputId": "0c1b0883-d61d-4e17-bb1c-e194c0ff8840"
   },
   "outputs": [
    {
     "data": {
      "text/plain": [
       "['Perfume', 'Soap', 'Tissue paper', 'Body cream']"
      ]
     },
     "execution_count": 13,
     "metadata": {},
     "output_type": "execute_result"
    }
   ],
   "source": [
    "shopping_list2"
   ]
  },
  {
   "cell_type": "code",
   "execution_count": 14,
   "id": "4d9c2f5a",
   "metadata": {
    "id": "4d9c2f5a",
    "outputId": "c675d123-48a9-4a88-aa10-536982642704"
   },
   "outputs": [
    {
     "data": {
      "text/plain": [
       "list"
      ]
     },
     "execution_count": 14,
     "metadata": {},
     "output_type": "execute_result"
    }
   ],
   "source": [
    "type(shopping_list2)"
   ]
  },
  {
   "cell_type": "code",
   "execution_count": 28,
   "id": "5ea31ad8",
   "metadata": {
    "id": "5ea31ad8"
   },
   "outputs": [],
   "source": [
    "# create a list using the list function\n",
    "shopping_list3 = list(['Perfume', 'Soap', 'Tissue paper', 'Body cream'])"
   ]
  },
  {
   "cell_type": "code",
   "execution_count": 29,
   "id": "3a88f5d2",
   "metadata": {
    "id": "3a88f5d2",
    "outputId": "5d4eaf9a-8d2a-42d2-f8e2-1155c9d45f5d"
   },
   "outputs": [
    {
     "data": {
      "text/plain": [
       "['Perfume', 'Soap', 'Tissue paper', 'Body cream']"
      ]
     },
     "execution_count": 29,
     "metadata": {},
     "output_type": "execute_result"
    }
   ],
   "source": [
    "shopping_list3"
   ]
  },
  {
   "cell_type": "code",
   "execution_count": 30,
   "id": "6d359cfc",
   "metadata": {
    "id": "6d359cfc"
   },
   "outputs": [],
   "source": [
    "shopping_list4 = []"
   ]
  },
  {
   "cell_type": "markdown",
   "id": "d7f60d72",
   "metadata": {
    "id": "d7f60d72"
   },
   "source": [
    "### Reading a List <a id=\"lists-read\"></a>"
   ]
  },
  {
   "cell_type": "code",
   "execution_count": 31,
   "id": "2c5bf349",
   "metadata": {
    "id": "2c5bf349",
    "outputId": "dcd928a4-4864-4b6e-cba9-f2044476807b",
    "scrolled": true
   },
   "outputs": [
    {
     "name": "stdout",
     "output_type": "stream",
     "text": [
      "Perfume\n"
     ]
    }
   ],
   "source": [
    "print(shopping_list3[0])"
   ]
  },
  {
   "cell_type": "code",
   "execution_count": 32,
   "id": "bfba76b0",
   "metadata": {
    "id": "bfba76b0",
    "outputId": "92065d12-c22b-48cf-dbff-2be8920aa3f4"
   },
   "outputs": [
    {
     "name": "stdout",
     "output_type": "stream",
     "text": [
      "['Perfume', 'Soap']\n"
     ]
    }
   ],
   "source": [
    "# slicing a list: first two items\n",
    "\n",
    "print(shopping_list3[0:2])"
   ]
  },
  {
   "cell_type": "code",
   "execution_count": 33,
   "id": "59d78d59",
   "metadata": {
    "id": "59d78d59"
   },
   "outputs": [],
   "source": [
    "numbers = [0, 1, 2, 3, 4, 5, 6, 7, 8, 9]"
   ]
  },
  {
   "cell_type": "code",
   "execution_count": 34,
   "id": "985e266e",
   "metadata": {
    "id": "985e266e",
    "outputId": "3afddce5-0e87-4f7f-dbc6-dc597bef590e"
   },
   "outputs": [
    {
     "data": {
      "text/plain": [
       "[0, 2, 4, 6, 8]"
      ]
     },
     "execution_count": 34,
     "metadata": {},
     "output_type": "execute_result"
    }
   ],
   "source": [
    "numbers[::2]"
   ]
  },
  {
   "cell_type": "code",
   "execution_count": 35,
   "id": "be70e80c",
   "metadata": {
    "id": "be70e80c",
    "outputId": "a820db1e-3cf9-47fc-a610-780fb84e885f"
   },
   "outputs": [
    {
     "data": {
      "text/plain": [
       "9"
      ]
     },
     "execution_count": 35,
     "metadata": {},
     "output_type": "execute_result"
    }
   ],
   "source": [
    "numbers[-1]"
   ]
  },
  {
   "cell_type": "markdown",
   "id": "5287005c",
   "metadata": {
    "id": "5287005c"
   },
   "source": [
    "### Updating a List <a id=\"lists-update\"></a>"
   ]
  },
  {
   "cell_type": "code",
   "execution_count": null,
   "id": "2fe412e8",
   "metadata": {
    "collapsed": true,
    "id": "2fe412e8",
    "outputId": "979e630b-e21f-4354-a491-7f4e98a70ea3"
   },
   "outputs": [
    {
     "ename": "",
     "evalue": "",
     "output_type": "error",
     "traceback": [
      "\u001b[1;31mRunning cells with 'c:\\Python312\\python.exe' requires the ipykernel package.\n",
      "\u001b[1;31mRun the following command to install 'ipykernel' into the Python environment. \n",
      "\u001b[1;31mCommand: 'c:/Python312/python.exe -m pip install ipykernel -U --user --force-reinstall'"
     ]
    }
   ],
   "source": [
    "dir(shopping_list4)"
   ]
  },
  {
   "cell_type": "code",
   "execution_count": 36,
   "id": "40361f6c",
   "metadata": {
    "id": "40361f6c"
   },
   "outputs": [],
   "source": [
    "shopping_list4.append('Soap')"
   ]
  },
  {
   "cell_type": "code",
   "execution_count": 37,
   "id": "685132ba",
   "metadata": {
    "id": "685132ba"
   },
   "outputs": [],
   "source": [
    "shopping_list4.append('Perfume')"
   ]
  },
  {
   "cell_type": "code",
   "execution_count": 38,
   "id": "96f16a11",
   "metadata": {
    "id": "96f16a11",
    "outputId": "10d9fe19-2690-4c9d-be68-60b804acfe5e"
   },
   "outputs": [
    {
     "name": "stdout",
     "output_type": "stream",
     "text": [
      "['Soap', 'Perfume']\n"
     ]
    }
   ],
   "source": [
    "print(shopping_list4)"
   ]
  },
  {
   "cell_type": "code",
   "execution_count": 39,
   "id": "12360753",
   "metadata": {
    "id": "12360753"
   },
   "outputs": [],
   "source": [
    "shopping_list4.insert(0, 'Tissue Paper')"
   ]
  },
  {
   "cell_type": "code",
   "execution_count": 40,
   "id": "9b2efd10",
   "metadata": {
    "id": "9b2efd10",
    "outputId": "5fe0b258-09a3-4560-b632-0b16911495ee"
   },
   "outputs": [
    {
     "name": "stdout",
     "output_type": "stream",
     "text": [
      "['Tissue Paper', 'Soap', 'Perfume']\n"
     ]
    }
   ],
   "source": [
    "print(shopping_list4)"
   ]
  },
  {
   "cell_type": "code",
   "execution_count": 41,
   "id": "0655b240",
   "metadata": {
    "id": "0655b240"
   },
   "outputs": [],
   "source": [
    "shopping_list4.extend(['Groceries', 'Cocacola', 'Milo', 'Bama', 'Floating Berries'])"
   ]
  },
  {
   "cell_type": "code",
   "execution_count": 42,
   "id": "fbf59323",
   "metadata": {
    "id": "fbf59323",
    "outputId": "2b514df6-43f3-4bf2-8adb-882910d72c15"
   },
   "outputs": [
    {
     "name": "stdout",
     "output_type": "stream",
     "text": [
      "['Tissue Paper', 'Soap', 'Perfume', 'Groceries', 'Cocacola', 'Milo', 'Bama', 'Floating Berries']\n"
     ]
    }
   ],
   "source": [
    "print(shopping_list4)"
   ]
  },
  {
   "cell_type": "code",
   "execution_count": 22,
   "id": "d43e680d",
   "metadata": {
    "id": "d43e680d"
   },
   "outputs": [],
   "source": [
    "# removing items from a list: remove, pop"
   ]
  },
  {
   "cell_type": "code",
   "execution_count": 43,
   "id": "73cb46d2",
   "metadata": {
    "id": "73cb46d2",
    "outputId": "8f0695d5-7a3b-44d4-faba-983ad1f548dd"
   },
   "outputs": [
    {
     "data": {
      "text/plain": [
       "'Floating Berries'"
      ]
     },
     "execution_count": 43,
     "metadata": {},
     "output_type": "execute_result"
    }
   ],
   "source": [
    "shopping_list4.pop()"
   ]
  },
  {
   "cell_type": "code",
   "execution_count": 44,
   "id": "6746e06b",
   "metadata": {
    "id": "6746e06b",
    "outputId": "0849da79-e7c2-4a9f-b202-f34330ad63cd"
   },
   "outputs": [
    {
     "name": "stdout",
     "output_type": "stream",
     "text": [
      "['Tissue Paper', 'Soap', 'Perfume', 'Groceries', 'Cocacola', 'Milo', 'Bama']\n"
     ]
    }
   ],
   "source": [
    "print(shopping_list4)"
   ]
  },
  {
   "cell_type": "code",
   "execution_count": 45,
   "id": "023c200b",
   "metadata": {
    "id": "023c200b"
   },
   "outputs": [],
   "source": [
    "shopping_list4.remove('Soap')"
   ]
  },
  {
   "cell_type": "code",
   "execution_count": 46,
   "id": "5530b2db",
   "metadata": {
    "id": "5530b2db",
    "outputId": "17b4e52f-424c-41bc-8b4d-5f39451c5975"
   },
   "outputs": [
    {
     "name": "stdout",
     "output_type": "stream",
     "text": [
      "['Tissue Paper', 'Perfume', 'Groceries', 'Cocacola', 'Milo', 'Bama']\n"
     ]
    }
   ],
   "source": [
    "print(shopping_list4)"
   ]
  },
  {
   "cell_type": "code",
   "execution_count": 47,
   "id": "87638e41",
   "metadata": {
    "id": "87638e41",
    "outputId": "eb7a9668-4603-4d18-e19d-1cff86ebbd84"
   },
   "outputs": [
    {
     "name": "stdout",
     "output_type": "stream",
     "text": [
      "Object `shopping_list.update` not found.\n"
     ]
    }
   ],
   "source": [
    "shopping_list.update??"
   ]
  },
  {
   "cell_type": "markdown",
   "id": "1a723366",
   "metadata": {
    "id": "1a723366"
   },
   "source": [
    "### Delete"
   ]
  },
  {
   "cell_type": "code",
   "execution_count": 48,
   "id": "27d76b64",
   "metadata": {
    "id": "27d76b64"
   },
   "outputs": [],
   "source": [
    "shopping_list4.clear()"
   ]
  },
  {
   "cell_type": "code",
   "execution_count": 49,
   "id": "6385e6c1",
   "metadata": {
    "id": "6385e6c1",
    "outputId": "860add53-43b7-4929-ee7d-be9265cf481b"
   },
   "outputs": [
    {
     "name": "stdout",
     "output_type": "stream",
     "text": [
      "[]\n"
     ]
    }
   ],
   "source": [
    "print(shopping_list4)"
   ]
  },
  {
   "cell_type": "markdown",
   "id": "2e6bbc8a",
   "metadata": {
    "id": "2e6bbc8a"
   },
   "source": [
    "### List: Use Cases in Data Science <a id=\"lists-use-cases\"></a>"
   ]
  },
  {
   "cell_type": "markdown",
   "id": "74350f0e",
   "metadata": {
    "id": "74350f0e"
   },
   "source": [
    "### Use Case: Storing and Manipulating Datasets\n",
    "\n",
    "#### Background\n",
    "\n",
    "In data science, we often work with datasets that contain various types of information, such as numerical values, text data, or categorical variables. Python lists provide a convenient way to store and manipulate these datasets.\n",
    "\n",
    "#### Scenario\n",
    "\n",
    "Suppose we have collected data on the monthly sales revenue (in thousands of dollars) for a small retail store over the past year. The dataset includes sales data for each month. We want to use a Python list to store and analyze this dataset.\n",
    "\n",
    "#### Implementation\n",
    "\n",
    "Let's create a Python list called `monthly_sales` to store our dataset. Each element in the list represents the monthly sales revenue for one month, starting from January (index 0) to December (index 11).\n",
    "\n",
    "```python\n",
    "# Creating a list to store monthly sales data\n",
    "monthly_sales = [120, 135, 150, 145, 155, 160, 170, 180, 190, 200, 210, 220]\n"
   ]
  },
  {
   "cell_type": "code",
   "execution_count": 3,
   "id": "7159d058",
   "metadata": {
    "id": "7159d058"
   },
   "outputs": [],
   "source": [
    "monthly_sales = [120, 135, 150, 145, 155, 160, 170, 180, 190, 200, 210, 220]"
   ]
  },
  {
   "cell_type": "code",
   "execution_count": 4,
   "id": "ee788a1a",
   "metadata": {
    "id": "ee788a1a"
   },
   "outputs": [],
   "source": [
    "total_yearly_revenue = sum(monthly_sales)"
   ]
  },
  {
   "cell_type": "code",
   "execution_count": 5,
   "id": "a7cd1273",
   "metadata": {
    "id": "a7cd1273",
    "outputId": "6eb53ada-e96d-47e2-93ce-e8f4951a650c"
   },
   "outputs": [
    {
     "name": "stdout",
     "output_type": "stream",
     "text": [
      "2035\n"
     ]
    }
   ],
   "source": [
    "print(total_yearly_revenue)"
   ]
  },
  {
   "cell_type": "code",
   "execution_count": 51,
   "id": "d01fe4e7",
   "metadata": {
    "id": "d01fe4e7"
   },
   "outputs": [],
   "source": [
    "# avg = total/no. of total\n",
    "\n",
    "average_revenue = total_yearly_revenue / len(monthly_sales)"
   ]
  },
  {
   "cell_type": "code",
   "execution_count": 52,
   "id": "a36b8137",
   "metadata": {
    "id": "a36b8137",
    "outputId": "32e0c6b6-e52a-4e71-aeb8-feb81f8fb0c6"
   },
   "outputs": [
    {
     "name": "stdout",
     "output_type": "stream",
     "text": [
      "169.6\n"
     ]
    }
   ],
   "source": [
    "print(round(average_revenue, 1))"
   ]
  },
  {
   "cell_type": "markdown",
   "id": "9b7315b2",
   "metadata": {
    "id": "9b7315b2"
   },
   "source": [
    "### Assignment"
   ]
  },
  {
   "cell_type": "markdown",
   "id": "8b6f8812",
   "metadata": {
    "id": "8b6f8812"
   },
   "source": [
    "1. From the list (monthly_sales) above,\n",
    "- create four seperate lists frm the list for each quarter namely: q1, q2, q3, q4.\n",
    "- report what quarter had the highest amount in total revenue,\n",
    "- report the lowest."
   ]
  },
  {
   "cell_type": "code",
   "execution_count": 15,
   "id": "51bb2e19",
   "metadata": {
    "id": "51bb2e19"
   },
   "outputs": [],
   "source": [
    "# Your code here\n",
    "\n",
    "# Assignment solution\n",
    "# The code for first Quarter Q1\n",
    "q1 = [120, 135, 150]\n",
    "\n",
    "# The code for Second Quarter Q2\n",
    "q2 = [145, 155, 160]\n",
    "\n",
    "# The code for Third Quarter Q3\n",
    "q3 = [170, 180, 190]\n",
    "\n",
    "# The code for Fourth Quarter Q4\n",
    "q4 = [200, 210, 220]\n"
   ]
  },
  {
   "cell_type": "markdown",
   "id": "6c0c31ee",
   "metadata": {
    "id": "6c0c31ee"
   },
   "source": [
    "2. Store the names of a few of your friends in a list called names.\n",
    "- Print each person’s name by accessing each element in the list, one at a time.\n",
    "- Start with the list you created, but instead of just printing each person’s name, print a message to them. The text of each message should be the same, but each message should be personalized with the person’s name. hint(use may use f-strings)"
   ]
  },
  {
   "cell_type": "code",
   "execution_count": 16,
   "id": "5f87247d",
   "metadata": {
    "id": "5f87247d"
   },
   "outputs": [],
   "source": [
    "# Your code here\n",
    "# solution\n",
    "\n",
    "names = ['Sunday', 'Adeyemi', 'Bolade', 'Philip', 'Sodiq', 'Adeola', 'Faith']"
   ]
  },
  {
   "cell_type": "code",
   "execution_count": 69,
   "id": "3e615f5c",
   "metadata": {},
   "outputs": [
    {
     "name": "stdout",
     "output_type": "stream",
     "text": [
      "['Sunday', 'Adeyemi', 'Bolade', 'Philip']\n",
      "Welcome to the new Semester Sunday\n",
      "Welcome to the new Semester Adeyemi\n",
      "Welcome to the new Semester Bolade\n",
      "Welcome to the new Semester Philip\n"
     ]
    }
   ],
   "source": [
    "print(names)\n",
    "print(f'Welcome to the new Semester {(names[0])}')\n",
    "print(f'Welcome to the new Semester {(names[1])}')\n",
    "print(f'Welcome to the new Semester {(names[2])}')\n",
    "print(f'Welcome to the new Semester {(names[3])}')"
   ]
  },
  {
   "cell_type": "markdown",
   "id": "ae61bb7e",
   "metadata": {
    "id": "ae61bb7e"
   },
   "source": [
    "3. You are managing a list of students' names in your class.\n",
    "* Create a list called student_names containing the following student names as strings: 'Alice', 'Bob', 'Charlie', 'David', 'Eve'.\n",
    "- Use the student_names list from the list above for the following operations:\n",
    "  - a. Print the number of students in the class (the length of the list).\n",
    "  - b. Print the first and last student names in the list.\n",
    "  - c. Charlie has left the class. Remove his name from the list.\n",
    "  - d. A new student, \"Frank,\" has joined the class. Add his name to the list.\n",
    "  - e. The class has been dissolved, and you need to remove all student names from the list."
   ]
  },
  {
   "cell_type": "code",
   "execution_count": 18,
   "id": "120d240f",
   "metadata": {
    "id": "120d240f"
   },
   "outputs": [],
   "source": [
    "# Your code here\n",
    "# Solution\n",
    "student_names = ['Alice', 'Bob', 'Charlie', 'David', 'Eve']"
   ]
  },
  {
   "cell_type": "code",
   "execution_count": 19,
   "id": "feb53f94",
   "metadata": {},
   "outputs": [
    {
     "name": "stdout",
     "output_type": "stream",
     "text": [
      "5\n"
     ]
    }
   ],
   "source": [
    "# Print the number of students in the class\n",
    "print(len(student_names))"
   ]
  },
  {
   "cell_type": "code",
   "execution_count": 21,
   "id": "ce4909d2",
   "metadata": {},
   "outputs": [
    {
     "name": "stdout",
     "output_type": "stream",
     "text": [
      "Alice\n",
      "Eve\n"
     ]
    }
   ],
   "source": [
    "# Print the first and the last student names in the list\n",
    "print(student_names[0])\n",
    "print(student_names[4])"
   ]
  },
  {
   "cell_type": "code",
   "execution_count": 25,
   "id": "be7cb6c6",
   "metadata": {},
   "outputs": [
    {
     "name": "stdout",
     "output_type": "stream",
     "text": [
      "['Alice', 'Bob', 'David', 'Eve']\n"
     ]
    }
   ],
   "source": [
    "# Charlie has left the class. Remove his name from the list.\n",
    "student_names.pop(2)\n",
    "print(student_names)"
   ]
  },
  {
   "cell_type": "code",
   "execution_count": 26,
   "id": "173f0fd7",
   "metadata": {},
   "outputs": [
    {
     "name": "stdout",
     "output_type": "stream",
     "text": [
      "['Alice', 'Bob', 'David', 'Eve', 'Frank']\n"
     ]
    }
   ],
   "source": [
    "# A new student, \"Frank,\" has joined the class. Add his name to the list.\n",
    "student_names.append(\"Frank\")\n",
    "print(student_names)"
   ]
  },
  {
   "cell_type": "code",
   "execution_count": 27,
   "id": "74bacd40",
   "metadata": {},
   "outputs": [
    {
     "name": "stdout",
     "output_type": "stream",
     "text": [
      "[]\n"
     ]
    }
   ],
   "source": [
    "#The class has been dissolved, and you need to remove all student names from the list.\n",
    "student_names.clear()\n",
    "print(student_names)"
   ]
  },
  {
   "cell_type": "code",
   "execution_count": null,
   "id": "0f049ad8",
   "metadata": {},
   "outputs": [],
   "source": []
  }
 ],
 "metadata": {
  "colab": {
   "provenance": []
  },
  "kernelspec": {
   "display_name": "Python 3 (ipykernel)",
   "language": "python",
   "name": "python3"
  },
  "language_info": {
   "codemirror_mode": {
    "name": "ipython",
    "version": 3
   },
   "file_extension": ".py",
   "mimetype": "text/x-python",
   "name": "python",
   "nbconvert_exporter": "python",
   "pygments_lexer": "ipython3",
   "version": "3.11.3"
  }
 },
 "nbformat": 4,
 "nbformat_minor": 5
}
