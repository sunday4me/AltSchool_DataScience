{
 "cells": [
  {
   "cell_type": "markdown",
   "id": "f928ae4c",
   "metadata": {},
   "source": [
    "# Mention 5 simple data types used in Python and state specific use cases for each.\n",
    "\n",
    "1. Integers (`int`) : Integers are used to represent whole numbers without decimals. They are used in a wide range of applications such as counting, indexing, mathematical calculations, and any situation where a whole number is needed (e.g., counting items, representing ages, or indexing in lists).\n",
    "\n",
    "2. Strings (`str`) : Strings are used to represent textual data, consisting of a sequence of characters. They are used for storing names, messages, addresses, and any other textual information.\n",
    "\n",
    "3. Floats (`float`) : Floats are used to represent decimal numbers. They are essential for mathematical calculations that involve numbers with fractional parts (e.g., representing measurements, financial calculations, scientific computations).\n",
    "\n",
    "4. Boolean (`bool`) :  Booleans are used to represent truth values, typically denoted as True or False. They are used in control flow, conditional statements, and logical evaluations.\n",
    "\n",
    "5. List (`list`) : Lists are used to store a collection of items. They can hold a variety of data types and are useful for organizing and managing data in a sequential manner.\n",
    "\n"
   ]
  },
  {
   "cell_type": "markdown",
   "id": "c9269adc",
   "metadata": {},
   "source": [
    "# Mention 4 data structures used in Python and state specific use cases for each\n",
    "\n",
    "1. Lists (`list`): Lists are versatile and widely used to store a collection of items, whether they are of the same or different data types. They are mutable, meaning the elements can be modified after creation.\n",
    "\n",
    "2. Dictionaries (`dict`): Dictionaries store data in key-value pairs, allowing efficient retrieval of values based on associated keys. They are useful for representing relationships and mappings.\n",
    "\n",
    "3. Tuples (`tuple`): Tuples are similar to lists but are immutable, meaning their elements cannot be changed after creation. They are used to group related data together.\n",
    "\n",
    "Sets (`set`): Sets are used to store a collection of unique elements. They are useful for operations like finding unique items, set operations (union, intersection), and filtering out duplicates.\n"
   ]
  },
  {
   "cell_type": "code",
   "execution_count": null,
   "id": "7ca099b9",
   "metadata": {},
   "outputs": [],
   "source": []
  },
  {
   "cell_type": "code",
   "execution_count": null,
   "id": "f1baa017",
   "metadata": {},
   "outputs": [],
   "source": []
  },
  {
   "cell_type": "code",
   "execution_count": null,
   "id": "8ffa60d8",
   "metadata": {},
   "outputs": [],
   "source": []
  }
 ],
 "metadata": {
  "kernelspec": {
   "display_name": "Python 3 (ipykernel)",
   "language": "python",
   "name": "python3"
  },
  "language_info": {
   "codemirror_mode": {
    "name": "ipython",
    "version": 3
   },
   "file_extension": ".py",
   "mimetype": "text/x-python",
   "name": "python",
   "nbconvert_exporter": "python",
   "pygments_lexer": "ipython3",
   "version": "3.11.3"
  }
 },
 "nbformat": 4,
 "nbformat_minor": 5
}
